{
 "cells": [
  {
   "cell_type": "markdown",
   "id": "25a189a0",
   "metadata": {},
   "source": [
    "# what will be the output of the following python program\n"
   ]
  },
  {
   "cell_type": "code",
   "execution_count": 1,
   "id": "8ec734a0",
   "metadata": {},
   "outputs": [
    {
     "name": "stdout",
     "output_type": "stream",
     "text": [
      "True\n"
     ]
    }
   ],
   "source": [
    "def foo(x):\n",
    "    x[0] = ['def']\n",
    "    x[1] = ['abc']\n",
    "    return id(x)\n",
    "q = ['abc','def']\n",
    "print(id(q) == foo(q))\n"
   ]
  },
  {
   "cell_type": "markdown",
   "id": "337b3995",
   "metadata": {},
   "source": [
    "Output Explanation:\\\n",
    "The function foo modifies the input list q by replacing its elements with new lists.\\\n",
    "The id(q) is the identity of the original list 'q'.\\\n",
    "The foo(q) returns the identity of the modified list inside the function.\\\n",
    "The print statement checks if these two identities are equal.\\\n",
    "Since the modified list is still 'q', the output is True."
   ]
  },
  {
   "cell_type": "markdown",
   "id": "925c238d",
   "metadata": {},
   "source": [
    "# what will be the output of the following python code?\n"
   ]
  },
  {
   "cell_type": "code",
   "execution_count": 2,
   "id": "518a3c15",
   "metadata": {},
   "outputs": [
    {
     "name": "stdout",
     "output_type": "stream",
     "text": [
      "2\n"
     ]
    }
   ],
   "source": [
    "def fun():\n",
    "    try:\n",
    "        return 1\n",
    "    finally:\n",
    "        return 2\n",
    "k= fun()\n",
    "print(k)"
   ]
  },
  {
   "cell_type": "markdown",
   "id": "2e55888e",
   "metadata": {},
   "source": [
    "Output Explanation:\\\n",
    "The fun function contains a try block that returns the value 1.\\\n",
    "There is a finally block, which will be executed regardless of whether an exception occurs or not.\\\n",
    "The finally block returns the value 2."
   ]
  },
  {
   "cell_type": "markdown",
   "id": "72e69f11",
   "metadata": {},
   "source": [
    "# what will be the output of the following code snippet?\n"
   ]
  },
  {
   "cell_type": "code",
   "execution_count": 4,
   "id": "6b109594",
   "metadata": {},
   "outputs": [
    {
     "name": "stdout",
     "output_type": "stream",
     "text": [
      "Local\n"
     ]
    }
   ],
   "source": [
    "def func():\n",
    "    global value\n",
    "    value = 'Local'\n",
    "value = 'Global'\n",
    "func()\n",
    "print(value)"
   ]
  },
  {
   "cell_type": "markdown",
   "id": "1f4b4db4",
   "metadata": {},
   "source": [
    "Output Explanation:\\\n",
    "The function func is defined, and inside it, the global variable value is assigned the value 'Local'.\\\n",
    "Initially, the global variable value is set to 'Global'.\\\n",
    "Calling the function func modifies the global variable value to 'Local'.\\\n",
    "The final print(value) statement outputs the current\n"
   ]
  },
  {
   "cell_type": "markdown",
   "id": "36f27767",
   "metadata": {},
   "source": [
    "#  ___________ exceptions are raised as result of an error in opening a particular file"
   ]
  },
  {
   "cell_type": "markdown",
   "id": "1a6c12ed",
   "metadata": {},
   "source": [
    "FileNotFoundError: This exception is raised when the specified file cannot be found at the provided path."
   ]
  },
  {
   "cell_type": "markdown",
   "id": "fccae59f",
   "metadata": {},
   "source": [
    "#  In python we do not specify types ,it is directly interpert by the complier, so consider the following operation to be performed"
   ]
  },
  {
   "cell_type": "markdown",
   "id": "0cda97f9",
   "metadata": {},
   "source": [
    "a. x =13/2\n",
    "\n",
    "b. x=int(13/2)\n",
    "\n",
    "c. x= 13%2\n",
    "\n",
    "d. All Of the mentioned"
   ]
  },
  {
   "cell_type": "markdown",
   "id": "4dbf872f",
   "metadata": {},
   "source": [
    "a. x = 13/2: This performs floating-point division and assigns the result to x.\n",
    "\n",
    "b. x = int(13/2): This performs floating-point division, then converts the result to an integer using the int() function before assigning to x.\n",
    "\n",
    "c. x = 13%2: This performs the modulo operation, calculating the remainder of the division of 13 by 2 and assigns"
   ]
  },
  {
   "cell_type": "markdown",
   "id": "cd9714fd",
   "metadata": {},
   "source": [
    "# what willl be the out put of the follwing Python code?\n"
   ]
  },
  {
   "cell_type": "code",
   "execution_count": 8,
   "id": "ad3bca40",
   "metadata": {},
   "outputs": [
    {
     "ename": "NameError",
     "evalue": "name 't' is not defined",
     "output_type": "error",
     "traceback": [
      "\u001b[1;31m---------------------------------------------------------------------------\u001b[0m",
      "\u001b[1;31mNameError\u001b[0m                                 Traceback (most recent call last)",
      "Cell \u001b[1;32mIn[8], line 1\u001b[0m\n\u001b[1;32m----> 1\u001b[0m t[\u001b[38;5;241m5\u001b[39m]\n",
      "\u001b[1;31mNameError\u001b[0m: name 't' is not defined"
     ]
    }
   ],
   "source": [
    "t[5]"
   ]
  },
  {
   "cell_type": "markdown",
   "id": "8d5d66e2",
   "metadata": {},
   "source": [
    "#### since name is not defined it is called as a NAMING ERROR"
   ]
  },
  {
   "cell_type": "markdown",
   "id": "10c34bfd",
   "metadata": {},
   "source": [
    "# A while loop in python is used for what type of iteration\n"
   ]
  },
  {
   "cell_type": "markdown",
   "id": "21743d1a",
   "metadata": {},
   "source": [
    "#### in python while loop is used for indefinate iteration. i.e., it keeps on iterating until the condition is false"
   ]
  },
  {
   "cell_type": "markdown",
   "id": "64fd5f75",
   "metadata": {},
   "source": [
    "# What will be the output of the following python code?\n"
   ]
  },
  {
   "cell_type": "code",
   "execution_count": 9,
   "id": "2ddc5352",
   "metadata": {},
   "outputs": [
    {
     "ename": "NameError",
     "evalue": "name 'i' is not defined",
     "output_type": "error",
     "traceback": [
      "\u001b[1;31m---------------------------------------------------------------------------\u001b[0m",
      "\u001b[1;31mNameError\u001b[0m                                 Traceback (most recent call last)",
      "Cell \u001b[1;32mIn[9], line 2\u001b[0m\n\u001b[0;32m      1\u001b[0m x \u001b[38;5;241m=\u001b[39m \u001b[38;5;124m\"\u001b[39m\u001b[38;5;124mabcdef\u001b[39m\u001b[38;5;124m\"\u001b[39m\n\u001b[1;32m----> 2\u001b[0m \u001b[38;5;28;01mwhile\u001b[39;00m i \u001b[38;5;129;01min\u001b[39;00m x:\n\u001b[0;32m      3\u001b[0m     \u001b[38;5;28mprint\u001b[39m(i, end\u001b[38;5;241m=\u001b[39m\u001b[38;5;124m\"\u001b[39m\u001b[38;5;124m \u001b[39m\u001b[38;5;124m\"\u001b[39m)\n",
      "\u001b[1;31mNameError\u001b[0m: name 'i' is not defined"
     ]
    }
   ],
   "source": [
    "x = \"abcdef\"\n",
    "while i in x:\n",
    "    print(i, end=\" \")"
   ]
  },
  {
   "cell_type": "markdown",
   "id": "51649b71",
   "metadata": {},
   "source": [
    "will raise a NameError because the variable i is not defined before being used in the loop condition.\\\n",
    "The code provided contains a logical error. It tries to iterate over the variable i in the string x without declaring or\\ initializing i. This will result in a NameError because i is not defined before being used in the while loop."
   ]
  },
  {
   "cell_type": "markdown",
   "id": "9f7603e9",
   "metadata": {},
   "source": [
    "# what is main advantage of using decorators in python?\n"
   ]
  },
  {
   "cell_type": "markdown",
   "id": "bacd790a",
   "metadata": {},
   "source": [
    "#### decorators simplifies the syntax of decorated code"
   ]
  },
  {
   "cell_type": "markdown",
   "id": "1e82e708",
   "metadata": {},
   "source": [
    "# if return statement is not used inside the function , the function will return\n"
   ]
  },
  {
   "cell_type": "markdown",
   "id": "c17170d1",
   "metadata": {},
   "source": [
    "In Python, if a return statement is not used inside a function, the function will implicitly return None when it reaches the end of its code block. The None value represents the absence of a value or a null value in Python"
   ]
  },
  {
   "cell_type": "markdown",
   "id": "a59ba3cb",
   "metadata": {},
   "source": [
    "# what is called when function is defined inside a class?\n"
   ]
  },
  {
   "cell_type": "markdown",
   "id": "fb7ff1c4",
   "metadata": {},
   "source": [
    "When a function is defined inside a class, we call it a Method"
   ]
  },
  {
   "cell_type": "markdown",
   "id": "35ae2bb8",
   "metadata": {},
   "source": [
    "# which operator is used in python to import modules from a package?\n"
   ]
  },
  {
   "cell_type": "markdown",
   "id": "aaee29cd",
   "metadata": {},
   "source": [
    "('.') operator is used to import modules form packages"
   ]
  },
  {
   "cell_type": "code",
   "execution_count": 10,
   "id": "b5b1f9f9",
   "metadata": {},
   "outputs": [
    {
     "name": "stdout",
     "output_type": "stream",
     "text": [
      "6\n"
     ]
    }
   ],
   "source": [
    "def getMonth(m):\n",
    "    if m < 1 or m>12:\n",
    "        raise ValueError(\"Invalid\")\n",
    "    print(m)\n",
    "getMonth(6)"
   ]
  },
  {
   "cell_type": "markdown",
   "id": "6c0804c4",
   "metadata": {},
   "source": [
    "The getMonth function takes a parameter m, which represents a month.\\\n",
    "The if statement checks if the provided month is less than 1 or greater than 12, which are invalid month values.\\\n",
    "If the condition is true, a ValueError is raised with the message \"Invalid.\"\\\n",
    "If the condition is false, meaning the month is valid, the function proceeds to the next line and prints the value of the month.\\\n",
    "Finally, the getMonth function is called with the argument 6, so the output will be 6 if the month is valid."
   ]
  },
  {
   "cell_type": "markdown",
   "id": "9f6f4779",
   "metadata": {},
   "source": [
    "# In python programing language , syntax error is detected by ________at_______ "
   ]
  },
  {
   "cell_type": "markdown",
   "id": "c4d153a6",
   "metadata": {},
   "source": [
    "interpreter / compile time Syntax errors in Python are detected by the interpreter during the compilation phase, which occurs before the code is executed. So, the correct answer is that syntax errors are detected by the interpreter at compile time."
   ]
  },
  {
   "cell_type": "code",
   "execution_count": 11,
   "id": "bcb6efca",
   "metadata": {},
   "outputs": [],
   "source": [
    "class Book:\n",
    "    def __init__(self,author):\n",
    "        self.author = author\n",
    "book1 = Book('V.M.Shah')\n",
    "book2 = book1\n",
    "    "
   ]
  },
  {
   "cell_type": "code",
   "execution_count": 12,
   "id": "f63f25ad",
   "metadata": {},
   "outputs": [
    {
     "data": {
      "text/plain": [
       "2750085327440"
      ]
     },
     "execution_count": 12,
     "metadata": {},
     "output_type": "execute_result"
    }
   ],
   "source": [
    "id(book1)"
   ]
  },
  {
   "cell_type": "code",
   "execution_count": 13,
   "id": "f570b562",
   "metadata": {},
   "outputs": [
    {
     "data": {
      "text/plain": [
       "2750085327440"
      ]
     },
     "execution_count": 13,
     "metadata": {},
     "output_type": "execute_result"
    }
   ],
   "source": [
    "id(book2)"
   ]
  },
  {
   "cell_type": "markdown",
   "id": "08690658",
   "metadata": {},
   "source": [
    "A class named Book is defined.\\\n",
    "The class has a constructor method init that takes two parameters: self (representing the instance of the class) and author.\\\n",
    "The constructor initializes the instance's author attribute with the provided author parameter.\\\n",
    "An instance of the Book class is created with the author 'V.M.Shah' and assigned to the variable book1.\\\n",
    "Another variable book2 is created and assigned the same instance as book1.\\\n",
    "This code essentially creates two variables, book1 and book2, both referencing the same instance of the Book class. They point to the same object in memory. Any changes made through one variable will be reflected in"
   ]
  },
  {
   "cell_type": "code",
   "execution_count": 16,
   "id": "36a10a10",
   "metadata": {},
   "outputs": [
    {
     "data": {
      "text/html": [
       "<div>\n",
       "<style scoped>\n",
       "    .dataframe tbody tr th:only-of-type {\n",
       "        vertical-align: middle;\n",
       "    }\n",
       "\n",
       "    .dataframe tbody tr th {\n",
       "        vertical-align: top;\n",
       "    }\n",
       "\n",
       "    .dataframe thead th {\n",
       "        text-align: right;\n",
       "    }\n",
       "</style>\n",
       "<table border=\"1\" class=\"dataframe\">\n",
       "  <thead>\n",
       "    <tr style=\"text-align: right;\">\n",
       "      <th></th>\n",
       "      <th>Date</th>\n",
       "      <th>Category</th>\n",
       "      <th>Product</th>\n",
       "      <th>Customer_id</th>\n",
       "      <th>Quantity</th>\n",
       "      <th>UnitPrice</th>\n",
       "    </tr>\n",
       "  </thead>\n",
       "  <tbody>\n",
       "    <tr>\n",
       "      <th>0</th>\n",
       "      <td>2024-01-01</td>\n",
       "      <td>Beverage</td>\n",
       "      <td>Cappuccino</td>\n",
       "      <td>C004</td>\n",
       "      <td>1</td>\n",
       "      <td>3.0</td>\n",
       "    </tr>\n",
       "    <tr>\n",
       "      <th>1</th>\n",
       "      <td>2024-01-02</td>\n",
       "      <td>Food</td>\n",
       "      <td>Croissant</td>\n",
       "      <td>C002</td>\n",
       "      <td>2</td>\n",
       "      <td>2.0</td>\n",
       "    </tr>\n",
       "    <tr>\n",
       "      <th>2</th>\n",
       "      <td>2024-01-03</td>\n",
       "      <td>Beverage</td>\n",
       "      <td>Espresso</td>\n",
       "      <td>C001</td>\n",
       "      <td>2</td>\n",
       "      <td>2.0</td>\n",
       "    </tr>\n",
       "    <tr>\n",
       "      <th>3</th>\n",
       "      <td>2024-01-10</td>\n",
       "      <td>Beverage</td>\n",
       "      <td>Latte</td>\n",
       "      <td>C001</td>\n",
       "      <td>3</td>\n",
       "      <td>3.5</td>\n",
       "    </tr>\n",
       "    <tr>\n",
       "      <th>4</th>\n",
       "      <td>2024-01-09</td>\n",
       "      <td>Beverage</td>\n",
       "      <td>Latte</td>\n",
       "      <td>C003</td>\n",
       "      <td>1</td>\n",
       "      <td>3.5</td>\n",
       "    </tr>\n",
       "    <tr>\n",
       "      <th>5</th>\n",
       "      <td>2024-01-08</td>\n",
       "      <td>Food</td>\n",
       "      <td>Muffin</td>\n",
       "      <td>C002</td>\n",
       "      <td>1</td>\n",
       "      <td>2.5</td>\n",
       "    </tr>\n",
       "  </tbody>\n",
       "</table>\n",
       "</div>"
      ],
      "text/plain": [
       "         Date  Category     Product Customer_id  Quantity  UnitPrice\n",
       "0  2024-01-01  Beverage  Cappuccino        C004         1        3.0\n",
       "1  2024-01-02      Food   Croissant        C002         2        2.0\n",
       "2  2024-01-03  Beverage    Espresso        C001         2        2.0\n",
       "3  2024-01-10  Beverage       Latte        C001         3        3.5\n",
       "4  2024-01-09  Beverage       Latte        C003         1        3.5\n",
       "5  2024-01-08      Food      Muffin        C002         1        2.5"
      ]
     },
     "execution_count": 16,
     "metadata": {},
     "output_type": "execute_result"
    }
   ],
   "source": [
    "import pandas as pd\n",
    "\n",
    "\n",
    "data = {\n",
    "    'Date': ['2024-01-01', '2024-01-02', '2024-01-03','2024-01-10','2024-01-09','2024-01-08'],\n",
    "    'Category': ['Beverage', 'Food', 'Beverage','Beverage','Beverage','Food'],\n",
    "    'Product': ['Cappuccino', 'Croissant', 'Espresso','Latte','Latte','Muffin'],\n",
    "    'Customer_id': ['C004','C002','C001','C001','C003','C002'],\n",
    "    'Quantity': [1, 2, 2,3,1,1],\n",
    "    'UnitPrice': [3, 2,2,3.5,3.5,2.5]}\n",
    "\n",
    "\n",
    "df = pd.DataFrame(data)\n",
    "df"
   ]
  },
  {
   "cell_type": "markdown",
   "id": "7fb537b1",
   "metadata": {},
   "source": [
    "# How to create a new column \"Revenue\" which has value equal to the Quantity * UnitPrice\" of the current row?"
   ]
  },
  {
   "cell_type": "code",
   "execution_count": 17,
   "id": "0219908e",
   "metadata": {},
   "outputs": [],
   "source": [
    "df['Revenue'] = df['Quantity'] * df['UnitPrice']"
   ]
  },
  {
   "cell_type": "markdown",
   "id": "34c00461",
   "metadata": {},
   "source": [
    "This line of code adds a new column named \"Revenue\" to the DataFrame df. The values in this column are calculated by multiplying the \"Quantity\" column with the \"UnitPrice\" column for each row in the DataFrame. This results in the revenue generated for each product in the corresponding row.\\\n",
    "df['Quantity'] accesses the \"Quantity\" column of the DataFrame.\\\n",
    "df['UnitPrice'] accesses the \"UnitPrice\" column of the DataFrame.\\\n",
    "df['Quantity'] * df['UnitPrice'] performs element-wise multiplication of the \"Quantity\" and \"UnitPrice\" columns, resulting in a new Series.\\\n",
    "df['Revenue'] = df['Quantity'] * df['UnitPrice'] assigns this new Series to a new column named \"Revenue\" in the DataFrame"
   ]
  },
  {
   "cell_type": "markdown",
   "id": "b087db33",
   "metadata": {},
   "source": [
    "# What is the syntax to find Categorical wise revenue?"
   ]
  },
  {
   "cell_type": "code",
   "execution_count": 19,
   "id": "bcb61db9",
   "metadata": {},
   "outputs": [
    {
     "data": {
      "text/plain": [
       "Category\n",
       "Beverage    21.0\n",
       "Food         6.5\n",
       "Name: Revenue, dtype: float64"
      ]
     },
     "execution_count": 19,
     "metadata": {},
     "output_type": "execute_result"
    }
   ],
   "source": [
    "df.groupby('Category')['Revenue'].sum()"
   ]
  },
  {
   "cell_type": "markdown",
   "id": "83e08b11",
   "metadata": {},
   "source": [
    "df.groupby('Category'): This groups the DataFrame by the 'Category' column.\\\n",
    "['Revenue']: It selects the 'Revenue' column from the grouped data.\\\n",
    ".sum(): This calculates the sum of the 'Revenue' column for each category group"
   ]
  },
  {
   "cell_type": "markdown",
   "id": "288ee3e9",
   "metadata": {},
   "source": [
    "# Tofind the average quantity wrt to date and product ,what is the correct syntax?"
   ]
  },
  {
   "cell_type": "code",
   "execution_count": 21,
   "id": "2627760c",
   "metadata": {},
   "outputs": [
    {
     "data": {
      "text/plain": [
       "Date        Product   \n",
       "2024-01-01  Cappuccino    1.0\n",
       "2024-01-02  Croissant     2.0\n",
       "2024-01-03  Espresso      2.0\n",
       "2024-01-08  Muffin        1.0\n",
       "2024-01-09  Latte         1.0\n",
       "2024-01-10  Latte         3.0\n",
       "Name: Quantity, dtype: float64"
      ]
     },
     "execution_count": 21,
     "metadata": {},
     "output_type": "execute_result"
    }
   ],
   "source": [
    "df.groupby(['Date', 'Product'])['Quantity'].mean()"
   ]
  },
  {
   "cell_type": "markdown",
   "id": "b3a8884f",
   "metadata": {},
   "source": [
    "df.groupby(['Date', 'Product']): This groups the DataFrame by the 'Date' and 'Product' columns.\\\n",
    "['Quantity']: It selects the 'Quantity' column from the grouped data.\\\n",
    ".mean(): This calculates the mean (average) of the 'Quantity' column for each unique combination of date and product."
   ]
  },
  {
   "cell_type": "markdown",
   "id": "6c0b05be",
   "metadata": {},
   "source": [
    "# Categorical wise revenue for Beverage and food respectively are"
   ]
  },
  {
   "cell_type": "code",
   "execution_count": 22,
   "id": "922cf763",
   "metadata": {},
   "outputs": [],
   "source": [
    "df['Revenue'] = df['Quantity'] * df['UnitPrice']"
   ]
  },
  {
   "cell_type": "markdown",
   "id": "14069bcf",
   "metadata": {},
   "source": [
    "df['Quantity'] accesses the \"Quantity\" column of the DataFrame.\\\n",
    "df['UnitPrice'] accesses the \"UnitPrice\" column of the DataFrame.\\\n",
    "df['Quantity'] * df['UnitPrice'] performs element-wise multiplication of the \"Quantity\" and \"UnitPrice\" columns, resulting in a new Series.\\\n",
    "df['Revenue'] = df['Quantity'] * df['UnitPrice'] assigns this new Series to a new column named \"Revenue\" in the DataFrame."
   ]
  },
  {
   "cell_type": "code",
   "execution_count": 24,
   "id": "d7adb821",
   "metadata": {},
   "outputs": [
    {
     "data": {
      "text/plain": [
       "21.0"
      ]
     },
     "execution_count": 24,
     "metadata": {},
     "output_type": "execute_result"
    }
   ],
   "source": [
    "beverage_rev = df[df['Category'] == 'Beverage']['Revenue'].sum()\n",
    "beverage_rev"
   ]
  },
  {
   "cell_type": "markdown",
   "id": "de5d65b2",
   "metadata": {},
   "source": [
    "df[df['Category'] == 'Beverage']: This filters the DataFrame to include only rows where the 'Category' is 'Beverage'.\\\n",
    "['Revenue']: It selects the 'Revenue' column from the filtered data.\\\n",
    ".sum(): This calculates the sum of the 'Revenue' column for the filtered data."
   ]
  },
  {
   "cell_type": "code",
   "execution_count": 25,
   "id": "30195daf",
   "metadata": {},
   "outputs": [
    {
     "data": {
      "text/plain": [
       "6.5"
      ]
     },
     "execution_count": 25,
     "metadata": {},
     "output_type": "execute_result"
    }
   ],
   "source": [
    "food_rev = df[df['Category'] == 'Food']['Revenue'].sum()\n",
    "food_rev"
   ]
  },
  {
   "cell_type": "markdown",
   "id": "8cc8fb3c",
   "metadata": {},
   "source": [
    "df[df['Category'] == 'Food']: Filters the DataFrame to include only rows where the 'Category' is 'Food'.\\\n",
    "['Revenue']: Selects the 'Revenue' column from the filtered data.\\\n",
    ".sum(): Calculates the sum of the 'Revenue' column for the filtered data."
   ]
  },
  {
   "cell_type": "markdown",
   "id": "2096a9c6",
   "metadata": {},
   "source": [
    "# Using transform ,what is the syntax to create a column which has a unitprice difference wrt its category mean?"
   ]
  },
  {
   "cell_type": "code",
   "execution_count": 26,
   "id": "39003963",
   "metadata": {},
   "outputs": [
    {
     "data": {
      "text/plain": [
       "0    0.00\n",
       "1   -0.25\n",
       "2   -1.00\n",
       "3    0.50\n",
       "4    0.50\n",
       "5    0.25\n",
       "Name: UnitPrice, dtype: float64"
      ]
     },
     "execution_count": 26,
     "metadata": {},
     "output_type": "execute_result"
    }
   ],
   "source": [
    "df.groupby('Category')['UnitPrice'].transform(lambda x: x - x.mean())"
   ]
  },
  {
   "cell_type": "markdown",
   "id": "d99537b9",
   "metadata": {},
   "source": [
    "df.groupby('Category'): Groups the DataFrame by the 'Category' column.\\\n",
    "-['UnitPrice']: Selects the 'UnitPrice' column for further operations\\\n",
    "\n",
    ".transform(lambda x: x - x.mean()): Applies a transformation to each group, subtracting the mean of the 'UnitPrice' column within that category from each value in the 'UnitPrice' column. This calculates the unit price difference with respect to the category mean.\\\n",
    "The result is a new column showing the unit price difference for each row with respect to its category mean. The output you provided indicates the values of this new column for the first six rows of the DataFrame."
   ]
  },
  {
   "cell_type": "markdown",
   "id": "bd4e7067",
   "metadata": {},
   "source": [
    "# What is the correct syntax to get data wrt 'Monday'?"
   ]
  },
  {
   "cell_type": "code",
   "execution_count": 28,
   "id": "9c14a67b",
   "metadata": {},
   "outputs": [
    {
     "data": {
      "text/html": [
       "<div>\n",
       "<style scoped>\n",
       "    .dataframe tbody tr th:only-of-type {\n",
       "        vertical-align: middle;\n",
       "    }\n",
       "\n",
       "    .dataframe tbody tr th {\n",
       "        vertical-align: top;\n",
       "    }\n",
       "\n",
       "    .dataframe thead th {\n",
       "        text-align: right;\n",
       "    }\n",
       "</style>\n",
       "<table border=\"1\" class=\"dataframe\">\n",
       "  <thead>\n",
       "    <tr style=\"text-align: right;\">\n",
       "      <th></th>\n",
       "      <th>Date</th>\n",
       "      <th>Category</th>\n",
       "      <th>Product</th>\n",
       "      <th>Customer_id</th>\n",
       "      <th>Quantity</th>\n",
       "      <th>UnitPrice</th>\n",
       "      <th>Revenue</th>\n",
       "    </tr>\n",
       "  </thead>\n",
       "  <tbody>\n",
       "    <tr>\n",
       "      <th>0</th>\n",
       "      <td>2024-01-01</td>\n",
       "      <td>Beverage</td>\n",
       "      <td>Cappuccino</td>\n",
       "      <td>C004</td>\n",
       "      <td>1</td>\n",
       "      <td>3.0</td>\n",
       "      <td>3.0</td>\n",
       "    </tr>\n",
       "    <tr>\n",
       "      <th>5</th>\n",
       "      <td>2024-01-08</td>\n",
       "      <td>Food</td>\n",
       "      <td>Muffin</td>\n",
       "      <td>C002</td>\n",
       "      <td>1</td>\n",
       "      <td>2.5</td>\n",
       "      <td>2.5</td>\n",
       "    </tr>\n",
       "  </tbody>\n",
       "</table>\n",
       "</div>"
      ],
      "text/plain": [
       "        Date  Category     Product Customer_id  Quantity  UnitPrice  Revenue\n",
       "0 2024-01-01  Beverage  Cappuccino        C004         1        3.0      3.0\n",
       "5 2024-01-08      Food      Muffin        C002         1        2.5      2.5"
      ]
     },
     "execution_count": 28,
     "metadata": {},
     "output_type": "execute_result"
    }
   ],
   "source": [
    "df['Date'] = pd.to_datetime(df['Date'])\n",
    "df.groupby(df.Date.dt.day_name()).get_group('Monday')"
   ]
  },
  {
   "cell_type": "markdown",
   "id": "250ff75d",
   "metadata": {},
   "source": [
    "pd.to_datetime(df['Date']): This converts the 'Date' column to a datetime format if it's not already.\n",
    "\n",
    "df['Date'].dt.day_name() == 'Monday': This extracts the day name from the 'Date' column using the dt accessor and checks if it\\ is equal to 'Monday'. This results in a boolean mask\n",
    "\n",
    "df[df['Date'].dt.day_name() == 'Monday']: This uses the boolean mask to filter the DataFrame, retaining only the rows where the\\ day is 'Monday'."
   ]
  },
  {
   "cell_type": "markdown",
   "id": "76626501",
   "metadata": {},
   "source": [
    "# which of the following statement is/are True?"
   ]
  },
  {
   "cell_type": "markdown",
   "id": "e4061fff",
   "metadata": {},
   "source": [
    "The apply function in pandas applies the provided function along the axis of the DataFrame or Series. If you don't specify the axis, it applies the function to each column by default. If you specify axis=1, it applies the function to each row.\\\n",
    "apply() can be applied on rows if you set the axis parameter accordingly."
   ]
  },
  {
   "cell_type": "markdown",
   "id": "a026734b",
   "metadata": {},
   "source": [
    "# Which of the following statement is/are True ?"
   ]
  },
  {
   "cell_type": "markdown",
   "id": "09041dd2",
   "metadata": {},
   "source": [
    " apply and map are vectorized applications.\\`\n",
    "a. This statement is not entirely accurate. map applies a function element-wise on a Series, not the entire DataFrame. However, apply can apply a function to the entire DataFrame or along a specific axis (row-wise or column-wise).\n",
    "\n",
    "b. This statement is incorrect. applymap applies a function element-wise on the entire DataFrame, not just on a Series.\n",
    "\n",
    "c. This statement is correct. Both apply and map are vectorized operations, meaning they operate on entire arrays (columns or Series) at once, rather than iterating through individual elements."
   ]
  },
  {
   "cell_type": "code",
   "execution_count": 30,
   "id": "af241005",
   "metadata": {},
   "outputs": [
    {
     "data": {
      "text/html": [
       "<div>\n",
       "<style scoped>\n",
       "    .dataframe tbody tr th:only-of-type {\n",
       "        vertical-align: middle;\n",
       "    }\n",
       "\n",
       "    .dataframe tbody tr th {\n",
       "        vertical-align: top;\n",
       "    }\n",
       "\n",
       "    .dataframe thead th {\n",
       "        text-align: right;\n",
       "    }\n",
       "</style>\n",
       "<table border=\"1\" class=\"dataframe\">\n",
       "  <thead>\n",
       "    <tr style=\"text-align: right;\">\n",
       "      <th></th>\n",
       "      <th>Date</th>\n",
       "      <th>Region</th>\n",
       "      <th>Salesperson</th>\n",
       "      <th>Product</th>\n",
       "      <th>Quantity</th>\n",
       "      <th>UnitPrice</th>\n",
       "    </tr>\n",
       "  </thead>\n",
       "  <tbody>\n",
       "    <tr>\n",
       "      <th>0</th>\n",
       "      <td>2024-01-10</td>\n",
       "      <td>North</td>\n",
       "      <td>Ajay</td>\n",
       "      <td>Notebook</td>\n",
       "      <td>5</td>\n",
       "      <td>12</td>\n",
       "    </tr>\n",
       "    <tr>\n",
       "      <th>1</th>\n",
       "      <td>2024-01-11</td>\n",
       "      <td>South</td>\n",
       "      <td>Balu</td>\n",
       "      <td>Pen</td>\n",
       "      <td>10</td>\n",
       "      <td>3</td>\n",
       "    </tr>\n",
       "    <tr>\n",
       "      <th>2</th>\n",
       "      <td>2024-01-10</td>\n",
       "      <td>East</td>\n",
       "      <td>Chirag</td>\n",
       "      <td>Notebook</td>\n",
       "      <td>7</td>\n",
       "      <td>12</td>\n",
       "    </tr>\n",
       "    <tr>\n",
       "      <th>3</th>\n",
       "      <td>2024-01-12</td>\n",
       "      <td>West</td>\n",
       "      <td>Ajay</td>\n",
       "      <td>Pen</td>\n",
       "      <td>15</td>\n",
       "      <td>3</td>\n",
       "    </tr>\n",
       "    <tr>\n",
       "      <th>4</th>\n",
       "      <td>2024-01-11</td>\n",
       "      <td>North</td>\n",
       "      <td>Balu</td>\n",
       "      <td>Binder</td>\n",
       "      <td>20</td>\n",
       "      <td>5</td>\n",
       "    </tr>\n",
       "    <tr>\n",
       "      <th>5</th>\n",
       "      <td>2024-01-12</td>\n",
       "      <td>East</td>\n",
       "      <td>Chiraj</td>\n",
       "      <td>Binder</td>\n",
       "      <td>10</td>\n",
       "      <td>5</td>\n",
       "    </tr>\n",
       "  </tbody>\n",
       "</table>\n",
       "</div>"
      ],
      "text/plain": [
       "         Date Region Salesperson   Product  Quantity  UnitPrice\n",
       "0  2024-01-10  North        Ajay  Notebook         5         12\n",
       "1  2024-01-11  South        Balu       Pen        10          3\n",
       "2  2024-01-10   East      Chirag  Notebook         7         12\n",
       "3  2024-01-12   West        Ajay       Pen        15          3\n",
       "4  2024-01-11  North        Balu    Binder        20          5\n",
       "5  2024-01-12   East      Chiraj    Binder        10          5"
      ]
     },
     "execution_count": 30,
     "metadata": {},
     "output_type": "execute_result"
    }
   ],
   "source": [
    "data = {\n",
    "    'Date': ['2024-01-10', '2024-01-11', '2024-01-10','2024-01-12','2024-01-11','2024-01-12'],\n",
    "    'Region': ['North', 'South', 'East','West','North','East'],\n",
    "    'Salesperson': ['Ajay', 'Balu', 'Chirag','Ajay','Balu','Chiraj'],\n",
    "    'Product': ['Notebook', 'Pen', 'Notebook','Pen','Binder','Binder'],\n",
    "    'Quantity': [5, 10, 7,15,20,10],\n",
    "    'UnitPrice': [12, 3, 12,3,5,5]\n",
    "}\n",
    "\n",
    "df1= pd.DataFrame(data)\n",
    "\n",
    "df1"
   ]
  },
  {
   "cell_type": "markdown",
   "id": "69f52616",
   "metadata": {},
   "source": [
    "# what is the syntax to create a pivot table with index as North and south and columns as product where values are sun of Quantities sold?"
   ]
  },
  {
   "cell_type": "code",
   "execution_count": 31,
   "id": "16073463",
   "metadata": {},
   "outputs": [
    {
     "data": {
      "text/html": [
       "<div>\n",
       "<style scoped>\n",
       "    .dataframe tbody tr th:only-of-type {\n",
       "        vertical-align: middle;\n",
       "    }\n",
       "\n",
       "    .dataframe tbody tr th {\n",
       "        vertical-align: top;\n",
       "    }\n",
       "\n",
       "    .dataframe thead th {\n",
       "        text-align: right;\n",
       "    }\n",
       "</style>\n",
       "<table border=\"1\" class=\"dataframe\">\n",
       "  <thead>\n",
       "    <tr style=\"text-align: right;\">\n",
       "      <th>Region</th>\n",
       "      <th>North</th>\n",
       "      <th>South</th>\n",
       "    </tr>\n",
       "    <tr>\n",
       "      <th>Product</th>\n",
       "      <th></th>\n",
       "      <th></th>\n",
       "    </tr>\n",
       "  </thead>\n",
       "  <tbody>\n",
       "    <tr>\n",
       "      <th>Binder</th>\n",
       "      <td>20.0</td>\n",
       "      <td>NaN</td>\n",
       "    </tr>\n",
       "    <tr>\n",
       "      <th>Notebook</th>\n",
       "      <td>5.0</td>\n",
       "      <td>NaN</td>\n",
       "    </tr>\n",
       "    <tr>\n",
       "      <th>Pen</th>\n",
       "      <td>NaN</td>\n",
       "      <td>10.0</td>\n",
       "    </tr>\n",
       "  </tbody>\n",
       "</table>\n",
       "</div>"
      ],
      "text/plain": [
       "Region    North  South\n",
       "Product               \n",
       "Binder     20.0    NaN\n",
       "Notebook    5.0    NaN\n",
       "Pen         NaN   10.0"
      ]
     },
     "execution_count": 31,
     "metadata": {},
     "output_type": "execute_result"
    }
   ],
   "source": [
    "df1[df1['Region'].isin(['North', 'South'])].pivot_table(index='Product', columns='Region', values='Quantity', aggfunc='sum')\n"
   ]
  },
  {
   "cell_type": "markdown",
   "id": "b00978f6",
   "metadata": {},
   "source": [
    "values='Quantity': This specifies the column whose values will be aggregated (summed in this case).\n",
    "\n",
    "index='Region': This sets the 'Region' column as the index of the pivot table.\n",
    "\n",
    "columns='Product': This sets the 'Product' column as the columns of the pivot table.\n",
    "\n",
    "aggfunc='sum': This specifies the aggregation function, which is 'sum' in this case."
   ]
  },
  {
   "cell_type": "markdown",
   "id": "7830eeb4",
   "metadata": {},
   "source": [
    "# Which of the following statement is /are True?"
   ]
  },
  {
   "cell_type": "markdown",
   "id": "5754011b",
   "metadata": {},
   "source": [
    "a) .iloc is primarily integer-location based indexing, and when you use it for slicing, it includes the last element in the specified range.\n",
    "\n",
    "b) .loc is label-based indexing, and when you use it for slicing, it includes the start but excludes the end.\n",
    "\n",
    "c) This statement is not entirely accurate. When using .loc for slicing, you typically provide labels (not default integer index values). If you pass integer values, it will interpret them as labels, not default integer positions."
   ]
  },
  {
   "cell_type": "markdown",
   "id": "1c4bbda3",
   "metadata": {},
   "source": [
    "# using a pivot table is it possible to create a multi index dataframe ,if so what is the syntax to have a multi index of data and Region with total Product sold as value"
   ]
  },
  {
   "cell_type": "code",
   "execution_count": 34,
   "id": "daf95d6a",
   "metadata": {},
   "outputs": [
    {
     "data": {
      "text/html": [
       "<div>\n",
       "<style scoped>\n",
       "    .dataframe tbody tr th:only-of-type {\n",
       "        vertical-align: middle;\n",
       "    }\n",
       "\n",
       "    .dataframe tbody tr th {\n",
       "        vertical-align: top;\n",
       "    }\n",
       "\n",
       "    .dataframe thead th {\n",
       "        text-align: right;\n",
       "    }\n",
       "</style>\n",
       "<table border=\"1\" class=\"dataframe\">\n",
       "  <thead>\n",
       "    <tr style=\"text-align: right;\">\n",
       "      <th></th>\n",
       "      <th>Product</th>\n",
       "      <th>Binder</th>\n",
       "      <th>Notebook</th>\n",
       "      <th>Pen</th>\n",
       "    </tr>\n",
       "    <tr>\n",
       "      <th>Date</th>\n",
       "      <th>Region</th>\n",
       "      <th></th>\n",
       "      <th></th>\n",
       "      <th></th>\n",
       "    </tr>\n",
       "  </thead>\n",
       "  <tbody>\n",
       "    <tr>\n",
       "      <th rowspan=\"2\" valign=\"top\">2024-01-10</th>\n",
       "      <th>East</th>\n",
       "      <td>NaN</td>\n",
       "      <td>7.0</td>\n",
       "      <td>NaN</td>\n",
       "    </tr>\n",
       "    <tr>\n",
       "      <th>North</th>\n",
       "      <td>NaN</td>\n",
       "      <td>5.0</td>\n",
       "      <td>NaN</td>\n",
       "    </tr>\n",
       "    <tr>\n",
       "      <th rowspan=\"2\" valign=\"top\">2024-01-11</th>\n",
       "      <th>North</th>\n",
       "      <td>20.0</td>\n",
       "      <td>NaN</td>\n",
       "      <td>NaN</td>\n",
       "    </tr>\n",
       "    <tr>\n",
       "      <th>South</th>\n",
       "      <td>NaN</td>\n",
       "      <td>NaN</td>\n",
       "      <td>10.0</td>\n",
       "    </tr>\n",
       "    <tr>\n",
       "      <th rowspan=\"2\" valign=\"top\">2024-01-12</th>\n",
       "      <th>East</th>\n",
       "      <td>10.0</td>\n",
       "      <td>NaN</td>\n",
       "      <td>NaN</td>\n",
       "    </tr>\n",
       "    <tr>\n",
       "      <th>West</th>\n",
       "      <td>NaN</td>\n",
       "      <td>NaN</td>\n",
       "      <td>15.0</td>\n",
       "    </tr>\n",
       "  </tbody>\n",
       "</table>\n",
       "</div>"
      ],
      "text/plain": [
       "Product            Binder  Notebook   Pen\n",
       "Date       Region                        \n",
       "2024-01-10 East       NaN       7.0   NaN\n",
       "           North      NaN       5.0   NaN\n",
       "2024-01-11 North     20.0       NaN   NaN\n",
       "           South      NaN       NaN  10.0\n",
       "2024-01-12 East      10.0       NaN   NaN\n",
       "           West       NaN       NaN  15.0"
      ]
     },
     "execution_count": 34,
     "metadata": {},
     "output_type": "execute_result"
    }
   ],
   "source": [
    "df1.pivot_table(index=['Date', 'Region'],columns='Product',values='Quantity',aggfunc='sum')"
   ]
  },
  {
   "cell_type": "markdown",
   "id": "56ed14a6",
   "metadata": {},
   "source": [
    "df: This assumes you have a DataFrame named df with columns like 'Date', 'Region', 'Product', and 'Quantity'.\n",
    "\n",
    "pivot_table(): This is a pandas function used to create a pivot table from a DataFrame.\n",
    "\n",
    "index=['Date', 'Region']: This specifies that the columns 'Date' and 'Region' will form the multi-index for the rows of the pivot table. It means that the table will be indexed based on the unique combinations of 'Date' and 'Region'.\n",
    "\n",
    "columns='Product': This sets the 'Product' column as the columns of the pivot table. Each unique value in the 'Product' column will become a column in the resulting pivot table.\n",
    "\n",
    "values='Quantity': This specifies that the values in the pivot table will be taken from the 'Quantity' column of the original DataFrame.\n",
    "\n",
    "aggfunc='sum': This specifies the aggregation function to be applied. In this case, it's 'sum', meaning that the values for each combination of 'Date', 'Region', and 'Product' will be summed."
   ]
  },
  {
   "cell_type": "markdown",
   "id": "d55a53a1",
   "metadata": {},
   "source": [
    "# what does the margins parameter in the pivot_table() function allowyou to include in the pivot table?"
   ]
  },
  {
   "cell_type": "markdown",
   "id": "a6d1173a",
   "metadata": {},
   "source": [
    "Additional margins and subtotals for rows and columns\\\n",
    "The margins parameter in the pivot_table() function in pandas allows you to include additional margins and subtotals for rows and columns in the pivot table. Setting margins=True adds the margins to the pivot table, providing totals for rows and columns. This can be useful for getting an overview of the data and understanding the totals for different combinations."
   ]
  },
  {
   "cell_type": "code",
   "execution_count": 35,
   "id": "8024a9e3",
   "metadata": {},
   "outputs": [],
   "source": [
    "import numpy as np\n",
    "data = {\n",
    "    'Fruits': ['apple', 'banana', 'apple', 'apple', 'banana', 'apple', 'kiwi',\n",
    "               'kiwi', 'banana', 'apple', 'kiwi', 'apple', 'banana', 'grape',\n",
    "               'apple', 'banana', 'apple', 'apple', 'apple'],\n",
    "    'Price': [np.nan, np.nan, 205, 200, 40, 210, 300, 320, np.nan, 180, 350,np.nan, 35, np.nan, 215, 40, np.nan, np.nan, np.nan]\n",
    "}\n",
    "\n",
    "df2 = pd.DataFrame(data)"
   ]
  },
  {
   "cell_type": "markdown",
   "id": "52c49b36",
   "metadata": {},
   "source": [
    "# if we choose to impute missing value in Price col by chaining ffill() and bfill() while limiting the imputation to 1,1 respectively ,how many missing values will be left post imputation"
   ]
  },
  {
   "cell_type": "code",
   "execution_count": 36,
   "id": "05aeae8b",
   "metadata": {},
   "outputs": [],
   "source": [
    "df2['Price'] = df2['Price'].ffill(limit=1).bfill(limit=1)"
   ]
  },
  {
   "cell_type": "markdown",
   "id": "549cacd2",
   "metadata": {},
   "source": [
    "The code is addressing missing values in the 'Price' column of the DataFrame df2.\\\n",
    "ffill(limit=1) is used to forward fill missing values, limiting the imputation to only 1 forward fill.\\\n",
    "Subsequently, bfill(limit=1) is applied to backward fill any remaining missing values, limiting the imputation to only 1 backward"
   ]
  },
  {
   "cell_type": "code",
   "execution_count": 37,
   "id": "ec1a631f",
   "metadata": {},
   "outputs": [
    {
     "data": {
      "text/plain": [
       "3"
      ]
     },
     "execution_count": 37,
     "metadata": {},
     "output_type": "execute_result"
    }
   ],
   "source": [
    "x = df2['Price'].isnull().sum()\n",
    "x"
   ]
  },
  {
   "cell_type": "markdown",
   "id": "2388e9ad",
   "metadata": {},
   "source": [
    "df2['Price'].isnull() checks for missing values in the 'Price' column of the DataFrame df2. It returns a boolean Series where True indicates a missing value and False indicates a non-missing value.\n",
    "\n",
    ".sum() is then used to calculate the sum of True values, effectively giving the total count of missing values in the 'Price' column."
   ]
  },
  {
   "cell_type": "markdown",
   "id": "fb57fcbf",
   "metadata": {},
   "source": [
    "# What kind of missing values handling technique is appropriate for df2?"
   ]
  },
  {
   "cell_type": "markdown",
   "id": "47fd7d95",
   "metadata": {},
   "source": [
    "Imputing Price col with individual fruits' Price median\\\n",
    "The median is less sensitive to outliers compared to the mean, making it a robust choice, especially if the distribution of prices is skewed or has outliers. Imputing with the median provides a reasonable estimate of the central tendency of the data while being less influenced by extreme values."
   ]
  },
  {
   "cell_type": "markdown",
   "id": "fc644b40",
   "metadata": {},
   "source": [
    "# If we choose to impute missing values in Price col by with individual Fruits'Price's mean ,how many missing values will be post imputation"
   ]
  },
  {
   "cell_type": "code",
   "execution_count": 39,
   "id": "9dd076c7",
   "metadata": {},
   "outputs": [],
   "source": [
    "df2['Price'] = df2.groupby('Fruits')['Price'].transform(lambda x: x.fillna(x.mean()))"
   ]
  },
  {
   "cell_type": "markdown",
   "id": "56a6b430",
   "metadata": {},
   "source": [
    "df2.groupby('Fruits')['Price']: This groups the DataFrame df2 by the 'Fruits' column and selects the 'Price' column for further operations.\n",
    "\n",
    ".transform(lambda x: x.fillna(x.mean())): For each group of 'Fruits', it applies a transformation using a lambda function. The lambda function replaces missing values in the 'Price' column with the mean of non-missing values within that group.\n",
    "\n",
    "x.fillna(x.mean()): For each group 'x', it fills missing values in the 'Price' column with the mean of non-missing values in that group.\n",
    "\n",
    "The result is assigned back to the 'Price' column of df2, effectively imputing missing values in 'Price' with the mean of each fruit's prices."
   ]
  },
  {
   "cell_type": "code",
   "execution_count": 40,
   "id": "061d4a99",
   "metadata": {},
   "outputs": [
    {
     "data": {
      "text/plain": [
       "0"
      ]
     },
     "execution_count": 40,
     "metadata": {},
     "output_type": "execute_result"
    }
   ],
   "source": [
    "df2['Price'].isnull().sum()"
   ]
  },
  {
   "cell_type": "markdown",
   "id": "c19b541f",
   "metadata": {},
   "source": [
    "df2['Price'].isnull(): This part creates a boolean mask where each element is True if the corresponding value in the 'Price' column is missing (null) and False otherwise.\n",
    "\n",
    ".sum(): This method then calculates the sum of True values in the boolean mask, effectively counting the number of missing values in the 'Price' column."
   ]
  },
  {
   "cell_type": "markdown",
   "id": "ad8e8959",
   "metadata": {},
   "source": [
    "# if a=pd.Series([np.nan,1,2,np.nan,np.nan,np.nan,np.nan,4,5,7]) what will be the output of a.interpolate"
   ]
  },
  {
   "cell_type": "code",
   "execution_count": 42,
   "id": "bf0d70a5",
   "metadata": {},
   "outputs": [
    {
     "data": {
      "text/plain": [
       "0    NaN\n",
       "1    1.0\n",
       "2    2.0\n",
       "3    2.4\n",
       "4    2.8\n",
       "5    3.2\n",
       "6    3.6\n",
       "7    4.0\n",
       "8    5.0\n",
       "9    7.0\n",
       "dtype: float64"
      ]
     },
     "execution_count": 42,
     "metadata": {},
     "output_type": "execute_result"
    }
   ],
   "source": [
    "a=pd.Series([np.nan,1,2,np.nan,np.nan,np.nan,np.nan,4,5,7])\n",
    "a.interpolate()"
   ]
  },
  {
   "cell_type": "markdown",
   "id": "9e980b2b",
   "metadata": {},
   "source": [
    "The interpolate() function in pandas is applied to the Series 'a'.\\\n",
    "It fills NaN values in the Series using linear interpolation.\\\n",
    "The result is a Series with NaN values replaced based on linear interpolation between neighboring non-NaN values.\\\n",
    "the missing values are filled using linear interpolation. The missing value at index 0 is not filled because there are no preceding values to interpolate from. Linear interpolation is applied between existing values, and you can see that the NaN values are filled accordingly."
   ]
  },
  {
   "cell_type": "markdown",
   "id": "7ca84633",
   "metadata": {},
   "source": [
    "# what is the use of the normalization parameter in the crosstab method of pandas?"
   ]
  },
  {
   "cell_type": "markdown",
   "id": "bbcaa4db",
   "metadata": {},
   "source": [
    " It is used to normalize values by dividing them by the total count\\\n",
    "In the pd.crosstab method in pandas, the normalize parameter is used to normalize the values by dividing them by the total count. By setting normalize to True, the resulting table will display proportions or percentages instead of counts. This is useful when you want to see the relative frequencies of the cross-tabulated variables."
   ]
  },
  {
   "cell_type": "code",
   "execution_count": null,
   "id": "38e9973c",
   "metadata": {},
   "outputs": [],
   "source": []
  }
 ],
 "metadata": {
  "kernelspec": {
   "display_name": "Python 3 (ipykernel)",
   "language": "python",
   "name": "python3"
  },
  "language_info": {
   "codemirror_mode": {
    "name": "ipython",
    "version": 3
   },
   "file_extension": ".py",
   "mimetype": "text/x-python",
   "name": "python",
   "nbconvert_exporter": "python",
   "pygments_lexer": "ipython3",
   "version": "3.11.5"
  }
 },
 "nbformat": 4,
 "nbformat_minor": 5
}
